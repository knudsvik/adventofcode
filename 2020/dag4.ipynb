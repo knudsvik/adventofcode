{
 "cells": [
  {
   "cell_type": "code",
   "execution_count": 61,
   "metadata": {},
   "outputs": [],
   "source": [
    "import re"
   ]
  },
  {
   "cell_type": "code",
   "execution_count": 21,
   "metadata": {},
   "outputs": [],
   "source": [
    "data = open('dag4.txt','r')"
   ]
  },
  {
   "cell_type": "code",
   "execution_count": 22,
   "metadata": {},
   "outputs": [],
   "source": [
    "string = data.read()"
   ]
  },
  {
   "cell_type": "code",
   "execution_count": 29,
   "metadata": {},
   "outputs": [
    {
     "data": {
      "text/plain": [
       "'cid:223 byr:1927\\nhgt:177cm hcl:#602927 iyr:2016 pid:404183620\\necl:amb\\neyr:2020'"
      ]
     },
     "execution_count": 29,
     "metadata": {},
     "output_type": "execute_result"
    }
   ],
   "source": [
    "string.split('\\n\\n')"
   ]
  },
  {
   "cell_type": "code",
   "execution_count": 32,
   "metadata": {},
   "outputs": [],
   "source": [
    "required = ['byr', 'iyr', 'eyr', 'hgt', 'hcl', 'ecl', 'pid']\n",
    "optional = ['cid']"
   ]
  },
  {
   "cell_type": "code",
   "execution_count": 33,
   "metadata": {},
   "outputs": [
    {
     "name": "stdout",
     "output_type": "stream",
     "text": [
      "254\n"
     ]
    }
   ],
   "source": [
    "count=0\n",
    "for i in string.split('\\n\\n'):\n",
    "    req = 0\n",
    "    for field in required:\n",
    "        if field in i:\n",
    "            req += 1\n",
    "        if req == 7:\n",
    "            count += 1\n",
    "print(count)"
   ]
  },
  {
   "cell_type": "code",
   "execution_count": 113,
   "metadata": {},
   "outputs": [
    {
     "name": "stdout",
     "output_type": "stream",
     "text": [
      "184\n"
     ]
    }
   ],
   "source": [
    "valid_col_char = ['0','1','2','3','4','5','6','7','8','9','a','b','c','d','e','f']\n",
    "valid_ecl = ['amb', 'blu', 'brn', 'gry', 'grn', 'hzl', 'oth']\n",
    "count = 0\n",
    "for i in string.split('\\n\\n'):\n",
    "    valid = 0\n",
    "    req = 0\n",
    "    for field in i.split():\n",
    "        if 'byr' in field:\n",
    "            req += 1\n",
    "            year = field.split(':')[1]\n",
    "            if len(year) == 4:\n",
    "                if 1920 <= int(year) < 2003:\n",
    "                    valid +=1\n",
    "        if 'iyr' in field:\n",
    "            req += 1\n",
    "            year = field.split(':')[1]\n",
    "            if len(year) == 4:\n",
    "                if 2010 <= int(year) < 2021:\n",
    "                    valid +=1\n",
    "        if 'eyr' in field:\n",
    "            req += 1\n",
    "            year = field.split(':')[1]\n",
    "            if len(year) == 4:\n",
    "                if 2020 <= int(year) < 2031:\n",
    "                    valid +=1\n",
    "        if 'hgt' in field:\n",
    "            req += 1\n",
    "            height = field.split(':')[1]\n",
    "            h = int(re.search(r\"\\d+\", height).group(0))\n",
    "            if 'cm' in height:\n",
    "                if 150 <= h < 194:\n",
    "                    valid += 1\n",
    "            elif 'in' in height:\n",
    "                if 59 <= h < 76:\n",
    "                    valid += 1\n",
    "        if 'hcl' in field:\n",
    "            req += 1\n",
    "            validate_hex = 0\n",
    "            colour = field.split(':')[1]\n",
    "            if colour.startswith('#'):\n",
    "                for letter in colour:\n",
    "                    if letter in valid_col_char:\n",
    "                        validate_hex += 1\n",
    "            if validate_hex == 6:\n",
    "                valid +=1\n",
    "        if 'ecl' in field:\n",
    "            req += 1\n",
    "            ecl = field.split(':')[1]\n",
    "            if len(ecl) == 3 and ecl in valid_ecl:\n",
    "                valid += 1\n",
    "        if 'pid' in field:\n",
    "            req += 1\n",
    "            pid = field.split(':')[1]\n",
    "            if len(pid) == 9 and pid.isdigit():\n",
    "                valid += 1\n",
    "    if req == 7 and valid == 7:\n",
    "        count += 1\n",
    "print(count)"
   ]
  },
  {
   "cell_type": "code",
   "execution_count": null,
   "metadata": {},
   "outputs": [],
   "source": []
  }
 ],
 "metadata": {
  "kernelspec": {
   "display_name": "Python 3.7.6 64-bit ('3.7.6': pyenv)",
   "language": "python",
   "name": "python37664bit376pyenv5849801728564346bf3a5ce23d161597"
  },
  "language_info": {
   "codemirror_mode": {
    "name": "ipython",
    "version": 3
   },
   "file_extension": ".py",
   "mimetype": "text/x-python",
   "name": "python",
   "nbconvert_exporter": "python",
   "pygments_lexer": "ipython3",
   "version": "3.7.6"
  }
 },
 "nbformat": 4,
 "nbformat_minor": 4
}
