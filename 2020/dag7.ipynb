{
 "cells": [
  {
   "cell_type": "code",
   "execution_count": 1,
   "metadata": {},
   "outputs": [],
   "source": [
    "data = open('dag7.txt', 'r')"
   ]
  },
  {
   "cell_type": "code",
   "execution_count": null,
   "metadata": {},
   "outputs": [],
   "source": [
    "data = open('dag7_test.txt', 'r')"
   ]
  },
  {
   "cell_type": "code",
   "execution_count": 2,
   "metadata": {},
   "outputs": [],
   "source": [
    "rules = data.readlines()"
   ]
  },
  {
   "cell_type": "code",
   "execution_count": 3,
   "metadata": {},
   "outputs": [],
   "source": [
    "data.close()"
   ]
  },
  {
   "cell_type": "code",
   "execution_count": 4,
   "metadata": {},
   "outputs": [],
   "source": [
    "bags = {}\n",
    "for rule in rules:\n",
    "    bag = ' '.join(rule.split()[0:2])\n",
    "    start_index = rule.find('contain') + 8\n",
    "    contain = rule[start_index:-2]\n",
    "    contain_bags_list = contain.split(',')\n",
    "    contains = []\n",
    "    for i in contain_bags_list:\n",
    "        contain_bags = ' '.join(i.split(' ')[-3:]) # Removes number of bags\n",
    "        contain_bags_wo = ' '.join(contain_bags.split(' ')[:2]) # Removes \"bags\"\n",
    "        contains.append(contain_bags_wo)\n",
    "    bags[bag] = contains"
   ]
  },
  {
   "cell_type": "code",
   "execution_count": 5,
   "metadata": {},
   "outputs": [
    {
     "name": "stdout",
     "output_type": "stream",
     "text": [
      "directs: ['pale purple', 'vibrant coral', 'dotted fuchsia']\n",
      "direct: 3\n"
     ]
    }
   ],
   "source": [
    "direct_count = 0\n",
    "list_of_directs = []\n",
    "\n",
    "for bag in bags:\n",
    "    for contain in bags[bag]:\n",
    "        if not 'no other' in contain:\n",
    "            if 'shiny gold' in contain:\n",
    "                direct_count += 1\n",
    "                list_of_directs.append(bag)\n",
    "                \n",
    "print('directs:', list_of_directs)\n",
    "print('direct:', direct_count)"
   ]
  },
  {
   "cell_type": "code",
   "execution_count": 24,
   "metadata": {},
   "outputs": [
    {
     "name": "stdout",
     "output_type": "stream",
     "text": [
      "level  0 . Added bags: 7\n",
      "level  1 . Added bags: 11\n",
      "level  2 . Added bags: 23\n",
      "level  3 . Added bags: 25\n",
      "level  4 . Added bags: 21\n",
      "level  5 . Added bags: 23\n",
      "level  6 . Added bags: 12\n",
      "level  7 . Added bags: 3\n",
      "level  8 . Added bags: 1\n",
      "level  9 . Added bags: 2\n",
      "level  10 . Added bags: 0\n",
      "level  11 . Added bags: 0\n",
      "level  12 . Added bags: 0\n",
      "level  13 . Added bags: 0\n",
      "level  14 . Added bags: 0\n",
      "level  15 . Added bags: 0\n",
      "level  16 . Added bags: 0\n",
      "level  17 . Added bags: 0\n",
      "level  18 . Added bags: 0\n",
      "level  19 . Added bags: 0\n",
      "level  20 . Added bags: 0\n",
      "level  21 . Added bags: 0\n",
      "level  22 . Added bags: 0\n",
      "level  23 . Added bags: 0\n",
      "level  24 . Added bags: 0\n",
      "level  25 . Added bags: 0\n",
      "level  26 . Added bags: 0\n",
      "level  27 . Added bags: 0\n",
      "level  28 . Added bags: 0\n",
      "level  29 . Added bags: 0\n",
      "total_indirects 128\n"
     ]
    }
   ],
   "source": [
    "levels = 30\n",
    "total_indirects = 0\n",
    "checked_bags = list_of_directs.copy()\n",
    "\n",
    "for level in range(levels):\n",
    "    level_count = 0\n",
    "    level_indirects = []\n",
    "\n",
    "    for bag in bags:\n",
    "        indirects = 0\n",
    "        if not bag in checked_bags:\n",
    "            #print('-- ny:', bag)\n",
    "            for contain in bags[bag]:\n",
    "                #print('contain:', contain)\n",
    "                for i in checked_bags:\n",
    "                    #print('i:', i)\n",
    "                    if i == contain:\n",
    "                        indirects += 1\n",
    "        if indirects > 0:\n",
    "            level_count += 1\n",
    "            level_indirects.append(bag)\n",
    "    print('level ',level, '. Added bags:', level_count)\n",
    "    for i in level_indirects:\n",
    "        checked_bags.append(i)\n",
    "    #print('Added bags:', level_indirects)\n",
    "    total_indirects += level_count\n",
    "\n",
    "print('total_indirects', total_indirects)"
   ]
  },
  {
   "cell_type": "code",
   "execution_count": 21,
   "metadata": {},
   "outputs": [
    {
     "data": {
      "text/plain": [
       "['pale purple',\n",
       " 'vibrant coral',\n",
       " 'dotted fuchsia',\n",
       " ['plaid green',\n",
       "  'shiny yellow',\n",
       "  'dotted magenta',\n",
       "  'vibrant bronze',\n",
       "  'clear maroon',\n",
       "  'wavy bronze',\n",
       "  'vibrant teal'],\n",
       " ['plaid green',\n",
       "  'shiny yellow',\n",
       "  'dotted magenta',\n",
       "  'vibrant bronze',\n",
       "  'clear maroon',\n",
       "  'wavy bronze',\n",
       "  'vibrant teal']]"
      ]
     },
     "execution_count": 21,
     "metadata": {},
     "output_type": "execute_result"
    }
   ],
   "source": [
    "checked_bags"
   ]
  },
  {
   "cell_type": "code",
   "execution_count": null,
   "metadata": {},
   "outputs": [],
   "source": []
  },
  {
   "cell_type": "code",
   "execution_count": null,
   "metadata": {},
   "outputs": [],
   "source": []
  },
  {
   "cell_type": "code",
   "execution_count": 6,
   "metadata": {},
   "outputs": [
    {
     "name": "stdout",
     "output_type": "stream",
     "text": [
      "indirects: ['plaid green', 'shiny yellow', 'dotted magenta', 'vibrant bronze', 'clear maroon', 'wavy bronze', 'vibrant teal']\n",
      "indirect: 7\n"
     ]
    }
   ],
   "source": [
    "indirect_count = 0\n",
    "list_of_indirects = []\n",
    "\n",
    "for bag in bags:\n",
    "    indirects = 0\n",
    "    if not bag in list_of_directs:\n",
    "        #print('-- ny:', bag)\n",
    "        for contain in bags[bag]:\n",
    "            #print('contain:', contain)\n",
    "            for i in list_of_directs:\n",
    "                #print('i:', i)\n",
    "                if i == contain:\n",
    "                    indirects += 1\n",
    "                    \n",
    "    if indirects > 0:\n",
    "        indirect_count += 1\n",
    "        list_of_indirects.append(bag)\n",
    "                    \n",
    "print('indirects:', list_of_indirects)\n",
    "print('indirect:', indirect_count)"
   ]
  },
  {
   "cell_type": "code",
   "execution_count": 7,
   "metadata": {},
   "outputs": [
    {
     "name": "stdout",
     "output_type": "stream",
     "text": [
      "indirects2: ['shiny cyan', 'drab violet', 'bright tomato', 'muted olive', 'dull magenta', 'plaid indigo', 'mirrored lime', 'dark white', 'striped cyan', 'mirrored magenta', 'shiny maroon']\n",
      "indirect2: 11\n"
     ]
    }
   ],
   "source": [
    "indirect2_count = 0\n",
    "list_of_indirects2 = []\n",
    "\n",
    "for bag in bags:\n",
    "    indirects = 0\n",
    "    if not bag in list_of_indirects:\n",
    "        #print('-- ny:', bag)\n",
    "        for contain in bags[bag]:\n",
    "            #print('contain:', contain)\n",
    "            for i in list_of_indirects:\n",
    "                #print('i:', i)\n",
    "                if i == contain:\n",
    "                    indirects += 1\n",
    "                    \n",
    "    if indirects > 0:\n",
    "        indirect2_count += 1\n",
    "        list_of_indirects2.append(bag)\n",
    "                    \n",
    "print('indirects2:', list_of_indirects2)\n",
    "print('indirect2:', indirect2_count)"
   ]
  },
  {
   "cell_type": "code",
   "execution_count": 8,
   "metadata": {},
   "outputs": [
    {
     "name": "stdout",
     "output_type": "stream",
     "text": [
      "indirects3: ['dim silver', 'drab indigo', 'muted indigo', 'dull indigo', 'dim crimson', 'vibrant fuchsia', 'wavy yellow', 'faded fuchsia', 'clear silver', 'muted crimson', 'light olive', 'pale plum', 'dull fuchsia', 'drab yellow', 'plaid bronze', 'muted aqua', 'vibrant orange', 'mirrored purple', 'faded aqua', 'muted black', 'faded turquoise', 'vibrant aqua', 'muted coral']\n",
      "indirect3: 23\n"
     ]
    }
   ],
   "source": [
    "indirect3_count = 0\n",
    "list_of_indirects3 = []\n",
    "\n",
    "for bag in bags:\n",
    "    indirects = 0\n",
    "    if not bag in list_of_indirects2:\n",
    "        #print('-- ny:', bag)\n",
    "        for contain in bags[bag]:\n",
    "            #print('contain:', contain)\n",
    "            for i in list_of_indirects2:\n",
    "                #print('i:', i)\n",
    "                if i == contain:\n",
    "                    indirects += 1\n",
    "                    \n",
    "    if indirects > 0:\n",
    "        indirect3_count += 1\n",
    "        list_of_indirects3.append(bag)\n",
    "                    \n",
    "print('indirects3:', list_of_indirects3)\n",
    "print('indirect3:', indirect3_count)"
   ]
  },
  {
   "cell_type": "code",
   "execution_count": 9,
   "metadata": {},
   "outputs": [
    {
     "name": "stdout",
     "output_type": "stream",
     "text": [
      "indirects4: ['shiny cyan', 'faded bronze', 'clear purple', 'vibrant crimson', 'mirrored orange', 'dark green', 'mirrored bronze', 'vibrant brown', 'light beige', 'clear plum', 'pale black', 'light bronze', 'posh bronze', 'striped orange', 'muted fuchsia', 'muted brown', 'striped teal', 'dark gold', 'dotted gold', 'faded crimson', 'striped red', 'dim beige', 'dark yellow', 'clear tan', 'dim lime', 'dim turquoise']\n",
      "indirect4: 26\n"
     ]
    }
   ],
   "source": [
    "indirect4_count = 0\n",
    "list_of_indirects4 = []\n",
    "\n",
    "for bag in bags:\n",
    "    indirects = 0\n",
    "    if not bag in list_of_indirects3:\n",
    "        #print('-- ny:', bag)\n",
    "        for contain in bags[bag]:\n",
    "            #print('contain:', contain)\n",
    "            for i in list_of_indirects3:\n",
    "                #print('i:', i)\n",
    "                if i == contain:\n",
    "                    indirects += 1\n",
    "                    \n",
    "    if indirects > 0:\n",
    "        indirect4_count += 1\n",
    "        list_of_indirects4.append(bag)\n",
    "                    \n",
    "print('indirects4:', list_of_indirects4)\n",
    "print('indirect4:', indirect4_count)"
   ]
  },
  {
   "cell_type": "code",
   "execution_count": null,
   "metadata": {},
   "outputs": [],
   "source": []
  }
 ],
 "metadata": {
  "kernelspec": {
   "display_name": "Python 3.7.6 64-bit ('3.7.6': pyenv)",
   "language": "python",
   "name": "python37664bit376pyenv5849801728564346bf3a5ce23d161597"
  },
  "language_info": {
   "codemirror_mode": {
    "name": "ipython",
    "version": 3
   },
   "file_extension": ".py",
   "mimetype": "text/x-python",
   "name": "python",
   "nbconvert_exporter": "python",
   "pygments_lexer": "ipython3",
   "version": "3.7.6"
  }
 },
 "nbformat": 4,
 "nbformat_minor": 4
}
