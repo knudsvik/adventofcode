{
 "cells": [
  {
   "cell_type": "code",
   "execution_count": 28,
   "metadata": {},
   "outputs": [],
   "source": [
    "data = open('dag6.txt', 'r')"
   ]
  },
  {
   "cell_type": "code",
   "execution_count": 29,
   "metadata": {},
   "outputs": [],
   "source": [
    "string = data.read()"
   ]
  },
  {
   "cell_type": "code",
   "execution_count": 30,
   "metadata": {},
   "outputs": [],
   "source": [
    "data.close()"
   ]
  },
  {
   "cell_type": "code",
   "execution_count": 46,
   "metadata": {},
   "outputs": [
    {
     "name": "stdout",
     "output_type": "stream",
     "text": [
      "6947\n"
     ]
    }
   ],
   "source": [
    "count = 0\n",
    "for group in string.split('\\n\\n'):\n",
    "    s = ''\n",
    "    for person in group.split():\n",
    "        s += person\n",
    "        f = len(''.join(set(s)))\n",
    "    count += f\n",
    "print(count)"
   ]
  },
  {
   "cell_type": "code",
   "execution_count": 71,
   "metadata": {},
   "outputs": [
    {
     "name": "stdout",
     "output_type": "stream",
     "text": [
      "3398\n"
     ]
    }
   ],
   "source": [
    "count = 0\n",
    "for group in string.split('\\n\\n'):\n",
    "    group_size = 0\n",
    "    group_answers = ''\n",
    "    for person in group.split():\n",
    "        group_size += 1\n",
    "        for answer in person.split():\n",
    "            group_answers += answer\n",
    "    res = {} \n",
    "    for keys in group_answers: \n",
    "        res[keys] = res.get(keys, 0) + 1\n",
    "    for i in res.values():\n",
    "        if i == group_size:\n",
    "            count += 1\n",
    "print(count)"
   ]
  }
 ],
 "metadata": {
  "kernelspec": {
   "display_name": "Python 3.7.6 64-bit ('3.7.6': pyenv)",
   "language": "python",
   "name": "python37664bit376pyenv5849801728564346bf3a5ce23d161597"
  },
  "language_info": {
   "codemirror_mode": {
    "name": "ipython",
    "version": 3
   },
   "file_extension": ".py",
   "mimetype": "text/x-python",
   "name": "python",
   "nbconvert_exporter": "python",
   "pygments_lexer": "ipython3",
   "version": "3.7.6"
  }
 },
 "nbformat": 4,
 "nbformat_minor": 4
}
